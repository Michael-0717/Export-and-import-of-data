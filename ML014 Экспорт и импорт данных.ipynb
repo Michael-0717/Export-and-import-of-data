{
 "cells": [
  {
   "cell_type": "markdown",
   "metadata": {},
   "source": [
    "### Постановка задачи\n",
    "Подготовим данные для построения модели: получим, объединим, оптимизируем и обогатим данные.\n",
    "\n",
    "Сохраним готовые данные в нескольких форматах: CSV, HDF5\n",
    "\n",
    "Данные:\n",
    "* http://video.ittensive.com/machine-learning/ashrae/building_metadata.csv.gz\n",
    "* http://video.ittensive.com/machine-learning/ashrae/weather_train.csv.gz\n",
    "* http://video.ittensive.com/machine-learning/ashrae/train.0.csv.gz\n",
    "Соревнование: https://www.kaggle.com/c/ashrae-energy-prediction/\n",
    "\n",
    "© ITtensive, 2020"
   ]
  },
  {
   "cell_type": "markdown",
   "metadata": {},
   "source": [
    "### Подключение библиотек"
   ]
  },
  {
   "cell_type": "code",
   "execution_count": 37,
   "metadata": {},
   "outputs": [],
   "source": [
    "import pandas as pd\n",
    "from pandas.tseries.holiday import USFederalHolidayCalendar as calendar\n",
    "import numpy as np\n",
    "from scipy.interpolate import interp1d\n",
    "from sklearn.model_selection import train_test_split\n",
    "from sklearn.linear_model import LinearRegression\n",
    "import os"
   ]
  },
  {
   "cell_type": "markdown",
   "metadata": {},
   "source": [
    "### Загрузка данных, отсечение 20 зданий, объединение и оптимизация"
   ]
  },
  {
   "cell_type": "code",
   "execution_count": 38,
   "metadata": {},
   "outputs": [],
   "source": [
    "def reduce_mem_usage (df):\n",
    "    start_mem = df.memory_usage().sum() / 1024**2    \n",
    "    for col in df.columns:\n",
    "        col_type = df[col].dtypes\n",
    "        if str(col_type)[:5] == \"float\":\n",
    "            c_min = df[col].min()\n",
    "            c_max = df[col].max()\n",
    "            if c_min > np.finfo(\"f2\").min and c_max < np.finfo(\"f2\").max:\n",
    "                df[col] = df[col].astype(np.float16)\n",
    "            elif c_min > np.finfo(\"f4\").min and c_max < np.finfo(\"f4\").max:\n",
    "                df[col] = df[col].astype(np.float32)\n",
    "            else:\n",
    "                df[col] = df[col].astype(np.float64)\n",
    "        elif str(col_type)[:3] == \"int\":\n",
    "            c_min = df[col].min()\n",
    "            c_max = df[col].max()\n",
    "            if c_min > np.iinfo(\"i1\").min and c_max < np.iinfo(\"i1\").max:\n",
    "                df[col] = df[col].astype(np.int8)\n",
    "            elif c_min > np.iinfo(\"i2\").min and c_max < np.iinfo(\"i2\").max:\n",
    "                df[col] = df[col].astype(np.int16)\n",
    "            elif c_min > np.iinfo(\"i4\").min and c_max < np.iinfo(\"i4\").max:\n",
    "                df[col] = df[col].astype(np.int32)\n",
    "            elif c_min > np.iinfo(\"i8\").min and c_max < np.iinfo(\"i8\").max:\n",
    "                df[col] = df[col].astype(np.int64)\n",
    "        elif col == \"timestamp\":\n",
    "            df[col] = pd.to_datetime(df[col])\n",
    "        elif str(col_type)[:8] != \"datetime\":\n",
    "            df[col] = df[col].astype(\"category\")\n",
    "    end_mem = df.memory_usage().sum() / 1024**2\n",
    "    print('Потребление памяти меньше на', round(start_mem - end_mem, 2), 'Мб (минус', round(100 * (start_mem - end_mem) / start_mem, 1), '%)')\n",
    "    return df"
   ]
  },
  {
   "cell_type": "code",
   "execution_count": 39,
   "metadata": {},
   "outputs": [],
   "source": [
    "buildings = pd.read_csv(\"http://video.ittensive.com/machine-learning/ashrae/building_metadata.csv.gz\")\n",
    "weather = pd.read_csv(\"http://video.ittensive.com/machine-learning/ashrae/weather_train.csv.gz\")\n",
    "weather = weather[weather[\"site_id\"] == 0]\n",
    "energy = pd.read_csv(\"http://video.ittensive.com/machine-learning/ashrae/train.0.csv.gz\")\n",
    "energy = energy[energy[\"building_id\"] < 20]\n",
    "energy = pd.merge(left=energy, right=buildings, how=\"left\",\n",
    "                   left_on=\"building_id\", right_on=\"building_id\")"
   ]
  },
  {
   "cell_type": "code",
   "execution_count": 40,
   "metadata": {},
   "outputs": [
    {
     "name": "stdout",
     "output_type": "stream",
     "text": [
      "Строения:  0.0664520263671875 Мб\n",
      "Погода:  0.670166015625 Мб\n",
      "Энергопотребление:  13.4033203125 Мб\n"
     ]
    }
   ],
   "source": [
    "print (\"Строения: \", buildings.memory_usage().sum() / 1024**2, \"Мб\")\n",
    "print (\"Погода: \", weather.memory_usage().sum() / 1024**2, \"Мб\")\n",
    "print (\"Энергопотребление: \", energy.memory_usage().sum() / 1024**2, \"Мб\")"
   ]
  },
  {
   "cell_type": "code",
   "execution_count": 41,
   "metadata": {},
   "outputs": [],
   "source": [
    "del buildings"
   ]
  },
  {
   "cell_type": "markdown",
   "metadata": {},
   "source": [
    "### Интерполяция значений"
   ]
  },
  {
   "cell_type": "code",
   "execution_count": 42,
   "metadata": {},
   "outputs": [
    {
     "name": "stdout",
     "output_type": "stream",
     "text": [
      "0       0.0\n",
      "1       0.0\n",
      "2       0.0\n",
      "3       0.0\n",
      "4       0.0\n",
      "       ... \n",
      "8779    0.0\n",
      "8780    0.0\n",
      "8781    0.0\n",
      "8782    0.0\n",
      "8783    0.0\n",
      "Name: precip_depth_1_hr, Length: 8784, dtype: float64\n"
     ]
    }
   ],
   "source": [
    "weather[\"precip_depth_1_hr\"] = weather[\"precip_depth_1_hr\"].apply(lambda x:x if x>0 else 0)\n",
    "interpolate_columns = [\"air_temperature\", \"dew_temperature\",\n",
    "                       \"cloud_coverage\", \"wind_speed\", \"wind_direction\",\n",
    "                       \"precip_depth_1_hr\", \"sea_level_pressure\"]\n",
    "for col in interpolate_columns:\n",
    "    weather[col] = weather[col].interpolate(limit_direction='both',\n",
    "                            kind='cubic')\n",
    "print(weather[\"precip_depth_1_hr\"])"
   ]
  },
  {
   "cell_type": "markdown",
   "metadata": {},
   "source": [
    "### Обогащение данных: погода"
   ]
  },
  {
   "cell_type": "code",
   "execution_count": 43,
   "metadata": {},
   "outputs": [
    {
     "name": "stdout",
     "output_type": "stream",
     "text": [
      "0      -0.6\n",
      "1      -0.6\n",
      "2      -1.6\n",
      "3      -1.7\n",
      "4      -1.1\n",
      "       ... \n",
      "8779    1.1\n",
      "8780    0.5\n",
      "8781    0.0\n",
      "8782   -0.5\n",
      "8783   -2.2\n",
      "Name: air_temperature_diff1, Length: 8784, dtype: float64\n",
      "-0.6000000000000014\n",
      "0       0.0\n",
      "1       0.0\n",
      "2      -1.0\n",
      "3      -0.1\n",
      "4       0.6\n",
      "       ... \n",
      "8779   -0.6\n",
      "8780   -0.6\n",
      "8781   -0.5\n",
      "8782   -0.5\n",
      "8783   -1.7\n",
      "Name: air_temperature_diff2, Length: 8784, dtype: float64\n",
      "0.0\n"
     ]
    }
   ],
   "source": [
    "weather[\"air_temperature_diff1\"] = weather[\"air_temperature\"].diff()\n",
    "weather.at[0, \"air_temperature_diff1\"] = weather.at[1, \"air_temperature_diff1\"]\n",
    "weather[\"air_temperature_diff2\"] = weather[\"air_temperature_diff1\"].diff()\n",
    "weather.at[0, \"air_temperature_diff2\"] = weather.at[1, \"air_temperature_diff2\"]\n",
    "print(weather[\"air_temperature_diff1\"])\n",
    "print(weather.at[0, \"air_temperature_diff1\"])\n",
    "\n",
    "print(weather[\"air_temperature_diff2\"])\n",
    "print(weather.at[0, \"air_temperature_diff2\"])"
   ]
  },
  {
   "cell_type": "markdown",
   "metadata": {},
   "source": [
    "### Объединение погодных данных"
   ]
  },
  {
   "cell_type": "code",
   "execution_count": 44,
   "metadata": {},
   "outputs": [
    {
     "name": "stdout",
     "output_type": "stream",
     "text": [
      "Потребление памяти меньше на 12.4 Мб (минус 71.2 %)\n",
      "<class 'pandas.core.frame.DataFrame'>\n",
      "RangeIndex: 175680 entries, 0 to 175679\n",
      "Data columns (total 13 columns):\n",
      " #   Column                 Non-Null Count   Dtype         \n",
      "---  ------                 --------------   -----         \n",
      " 0   timestamp              175680 non-null  datetime64[ns]\n",
      " 1   building_id            175680 non-null  int8          \n",
      " 2   meter_reading          175680 non-null  float16       \n",
      " 3   primary_use            175680 non-null  category      \n",
      " 4   air_temperature        175680 non-null  float16       \n",
      " 5   cloud_coverage         175680 non-null  float16       \n",
      " 6   dew_temperature        175680 non-null  float16       \n",
      " 7   precip_depth_1_hr      175680 non-null  float16       \n",
      " 8   sea_level_pressure     175680 non-null  float16       \n",
      " 9   wind_direction         175680 non-null  float16       \n",
      " 10  wind_speed             175680 non-null  float16       \n",
      " 11  air_temperature_diff1  175680 non-null  float16       \n",
      " 12  air_temperature_diff2  175680 non-null  float16       \n",
      "dtypes: category(1), datetime64[ns](1), float16(10), int8(1)\n",
      "memory usage: 5.0 MB\n",
      "None\n"
     ]
    }
   ],
   "source": [
    "energy = energy.set_index([\"timestamp\", \"site_id\"])\n",
    "weather = weather.set_index([\"timestamp\", \"site_id\"])\n",
    "energy = pd.merge(left=energy, right=weather, how=\"left\",\n",
    "                  left_index=True, right_index=True)\n",
    "energy.reset_index(inplace=True)\n",
    "energy = energy.drop(columns=[\"meter\", \"site_id\", \"year_built\",\n",
    "                              \"square_feet\", \"floor_count\"], axis=1)\n",
    "energy = reduce_mem_usage(energy)\n",
    "del weather\n",
    "print (energy.info())"
   ]
  },
  {
   "cell_type": "markdown",
   "metadata": {},
   "source": [
    "### Обогащение данных: дата"
   ]
  },
  {
   "cell_type": "code",
   "execution_count": 45,
   "metadata": {},
   "outputs": [
    {
     "name": "stderr",
     "output_type": "stream",
     "text": [
      "C:\\Users\\NRKP\\AppData\\Local\\Temp\\ipykernel_892\\3950203926.py:3: FutureWarning: Series.dt.weekofyear and Series.dt.week have been deprecated. Please use Series.dt.isocalendar().week instead.\n",
      "  energy[\"week\"] = energy[\"timestamp\"].dt.week.astype(\"int8\")\n"
     ]
    }
   ],
   "source": [
    "energy[\"hour\"] = energy[\"timestamp\"].dt.hour.astype(\"int8\")\n",
    "energy[\"weekday\"] = energy[\"timestamp\"].dt.weekday.astype(\"int8\")\n",
    "energy[\"week\"] = energy[\"timestamp\"].dt.week.astype(\"int8\")\n",
    "energy[\"month\"] = energy[\"timestamp\"].dt.month.astype(\"int8\")\n",
    "energy[\"date\"] = pd.to_datetime(energy[\"timestamp\"].dt.date)\n",
    "dates_range = pd.date_range(start='2015-12-31', end='2017-01-01')\n",
    "us_holidays = calendar().holidays(start=dates_range.min(),\n",
    "                                  end=dates_range.max())\n",
    "energy['is_holiday'] = energy['date'].isin(us_holidays).astype(\"int8\")\n",
    "for weekday in range(0,7):\n",
    "    energy['is_wday' + str(weekday)] = energy['weekday'].isin([weekday]).astype(\"int8\")\n",
    "for week in range(1,54):\n",
    "    energy['is_w' + str(week)] = energy['week'].isin([week]).astype(\"int8\")\n",
    "for month in range(1,13):\n",
    "    energy['is_m' + str(month)] = energy['month'].isin([month]).astype(\"int8\")"
   ]
  },
  {
   "cell_type": "markdown",
   "metadata": {},
   "source": [
    "### Логарифмирование данных\n",
    "z = A * x + B * y -> log z = A * x + B * y => z = e^Ax * e^By => z = a^x * b^y"
   ]
  },
  {
   "cell_type": "code",
   "execution_count": 46,
   "metadata": {},
   "outputs": [],
   "source": [
    "energy[\"meter_reading_log\"] = np.log(energy[\"meter_reading\"] + 1)"
   ]
  },
  {
   "cell_type": "markdown",
   "metadata": {},
   "source": [
    "### Экспорт данных в CSV и HDF5"
   ]
  },
  {
   "cell_type": "code",
   "execution_count": 47,
   "metadata": {},
   "outputs": [
    {
     "name": "stdout",
     "output_type": "stream",
     "text": [
      "<class 'pandas.core.frame.DataFrame'>\n",
      "RangeIndex: 175680 entries, 0 to 175679\n",
      "Data columns (total 92 columns):\n",
      " #   Column                 Non-Null Count   Dtype         \n",
      "---  ------                 --------------   -----         \n",
      " 0   timestamp              175680 non-null  datetime64[ns]\n",
      " 1   building_id            175680 non-null  int8          \n",
      " 2   meter_reading          175680 non-null  float16       \n",
      " 3   primary_use            175680 non-null  category      \n",
      " 4   air_temperature        175680 non-null  float16       \n",
      " 5   cloud_coverage         175680 non-null  float16       \n",
      " 6   dew_temperature        175680 non-null  float16       \n",
      " 7   precip_depth_1_hr      175680 non-null  float16       \n",
      " 8   sea_level_pressure     175680 non-null  float16       \n",
      " 9   wind_direction         175680 non-null  float16       \n",
      " 10  wind_speed             175680 non-null  float16       \n",
      " 11  air_temperature_diff1  175680 non-null  float16       \n",
      " 12  air_temperature_diff2  175680 non-null  float16       \n",
      " 13  hour                   175680 non-null  int8          \n",
      " 14  weekday                175680 non-null  int8          \n",
      " 15  week                   175680 non-null  int8          \n",
      " 16  month                  175680 non-null  int8          \n",
      " 17  date                   175680 non-null  datetime64[ns]\n",
      " 18  is_holiday             175680 non-null  int8          \n",
      " 19  is_wday0               175680 non-null  int8          \n",
      " 20  is_wday1               175680 non-null  int8          \n",
      " 21  is_wday2               175680 non-null  int8          \n",
      " 22  is_wday3               175680 non-null  int8          \n",
      " 23  is_wday4               175680 non-null  int8          \n",
      " 24  is_wday5               175680 non-null  int8          \n",
      " 25  is_wday6               175680 non-null  int8          \n",
      " 26  is_w1                  175680 non-null  int8          \n",
      " 27  is_w2                  175680 non-null  int8          \n",
      " 28  is_w3                  175680 non-null  int8          \n",
      " 29  is_w4                  175680 non-null  int8          \n",
      " 30  is_w5                  175680 non-null  int8          \n",
      " 31  is_w6                  175680 non-null  int8          \n",
      " 32  is_w7                  175680 non-null  int8          \n",
      " 33  is_w8                  175680 non-null  int8          \n",
      " 34  is_w9                  175680 non-null  int8          \n",
      " 35  is_w10                 175680 non-null  int8          \n",
      " 36  is_w11                 175680 non-null  int8          \n",
      " 37  is_w12                 175680 non-null  int8          \n",
      " 38  is_w13                 175680 non-null  int8          \n",
      " 39  is_w14                 175680 non-null  int8          \n",
      " 40  is_w15                 175680 non-null  int8          \n",
      " 41  is_w16                 175680 non-null  int8          \n",
      " 42  is_w17                 175680 non-null  int8          \n",
      " 43  is_w18                 175680 non-null  int8          \n",
      " 44  is_w19                 175680 non-null  int8          \n",
      " 45  is_w20                 175680 non-null  int8          \n",
      " 46  is_w21                 175680 non-null  int8          \n",
      " 47  is_w22                 175680 non-null  int8          \n",
      " 48  is_w23                 175680 non-null  int8          \n",
      " 49  is_w24                 175680 non-null  int8          \n",
      " 50  is_w25                 175680 non-null  int8          \n",
      " 51  is_w26                 175680 non-null  int8          \n",
      " 52  is_w27                 175680 non-null  int8          \n",
      " 53  is_w28                 175680 non-null  int8          \n",
      " 54  is_w29                 175680 non-null  int8          \n",
      " 55  is_w30                 175680 non-null  int8          \n",
      " 56  is_w31                 175680 non-null  int8          \n",
      " 57  is_w32                 175680 non-null  int8          \n",
      " 58  is_w33                 175680 non-null  int8          \n",
      " 59  is_w34                 175680 non-null  int8          \n",
      " 60  is_w35                 175680 non-null  int8          \n",
      " 61  is_w36                 175680 non-null  int8          \n",
      " 62  is_w37                 175680 non-null  int8          \n",
      " 63  is_w38                 175680 non-null  int8          \n",
      " 64  is_w39                 175680 non-null  int8          \n",
      " 65  is_w40                 175680 non-null  int8          \n",
      " 66  is_w41                 175680 non-null  int8          \n",
      " 67  is_w42                 175680 non-null  int8          \n",
      " 68  is_w43                 175680 non-null  int8          \n",
      " 69  is_w44                 175680 non-null  int8          \n",
      " 70  is_w45                 175680 non-null  int8          \n",
      " 71  is_w46                 175680 non-null  int8          \n",
      " 72  is_w47                 175680 non-null  int8          \n",
      " 73  is_w48                 175680 non-null  int8          \n",
      " 74  is_w49                 175680 non-null  int8          \n",
      " 75  is_w50                 175680 non-null  int8          \n",
      " 76  is_w51                 175680 non-null  int8          \n",
      " 77  is_w52                 175680 non-null  int8          \n",
      " 78  is_w53                 175680 non-null  int8          \n",
      " 79  is_m1                  175680 non-null  int8          \n",
      " 80  is_m2                  175680 non-null  int8          \n",
      " 81  is_m3                  175680 non-null  int8          \n",
      " 82  is_m4                  175680 non-null  int8          \n",
      " 83  is_m5                  175680 non-null  int8          \n",
      " 84  is_m6                  175680 non-null  int8          \n",
      " 85  is_m7                  175680 non-null  int8          \n",
      " 86  is_m8                  175680 non-null  int8          \n",
      " 87  is_m9                  175680 non-null  int8          \n",
      " 88  is_m10                 175680 non-null  int8          \n",
      " 89  is_m11                 175680 non-null  int8          \n",
      " 90  is_m12                 175680 non-null  int8          \n",
      " 91  meter_reading_log      175680 non-null  float16       \n",
      "dtypes: category(1), datetime64[ns](2), float16(11), int8(78)\n",
      "memory usage: 19.6 MB\n",
      "None\n"
     ]
    }
   ],
   "source": [
    "print (energy.info())\n",
    "energy.to_csv(\"energy.0-20.ready.csv.gz\", index=False)"
   ]
  },
  {
   "cell_type": "code",
   "execution_count": 48,
   "metadata": {},
   "outputs": [
    {
     "name": "stdout",
     "output_type": "stream",
     "text": [
      "<class 'pandas.core.frame.DataFrame'>\n",
      "RangeIndex: 175680 entries, 0 to 175679\n",
      "Data columns (total 92 columns):\n",
      " #   Column                 Non-Null Count   Dtype  \n",
      "---  ------                 --------------   -----  \n",
      " 0   timestamp              175680 non-null  object \n",
      " 1   building_id            175680 non-null  int64  \n",
      " 2   meter_reading          175680 non-null  float64\n",
      " 3   primary_use            175680 non-null  object \n",
      " 4   air_temperature        175680 non-null  float64\n",
      " 5   cloud_coverage         175680 non-null  float64\n",
      " 6   dew_temperature        175680 non-null  float64\n",
      " 7   precip_depth_1_hr      175680 non-null  float64\n",
      " 8   sea_level_pressure     175680 non-null  float64\n",
      " 9   wind_direction         175680 non-null  float64\n",
      " 10  wind_speed             175680 non-null  float64\n",
      " 11  air_temperature_diff1  175680 non-null  float64\n",
      " 12  air_temperature_diff2  175680 non-null  float64\n",
      " 13  hour                   175680 non-null  int64  \n",
      " 14  weekday                175680 non-null  int64  \n",
      " 15  week                   175680 non-null  int64  \n",
      " 16  month                  175680 non-null  int64  \n",
      " 17  date                   175680 non-null  object \n",
      " 18  is_holiday             175680 non-null  int64  \n",
      " 19  is_wday0               175680 non-null  int64  \n",
      " 20  is_wday1               175680 non-null  int64  \n",
      " 21  is_wday2               175680 non-null  int64  \n",
      " 22  is_wday3               175680 non-null  int64  \n",
      " 23  is_wday4               175680 non-null  int64  \n",
      " 24  is_wday5               175680 non-null  int64  \n",
      " 25  is_wday6               175680 non-null  int64  \n",
      " 26  is_w1                  175680 non-null  int64  \n",
      " 27  is_w2                  175680 non-null  int64  \n",
      " 28  is_w3                  175680 non-null  int64  \n",
      " 29  is_w4                  175680 non-null  int64  \n",
      " 30  is_w5                  175680 non-null  int64  \n",
      " 31  is_w6                  175680 non-null  int64  \n",
      " 32  is_w7                  175680 non-null  int64  \n",
      " 33  is_w8                  175680 non-null  int64  \n",
      " 34  is_w9                  175680 non-null  int64  \n",
      " 35  is_w10                 175680 non-null  int64  \n",
      " 36  is_w11                 175680 non-null  int64  \n",
      " 37  is_w12                 175680 non-null  int64  \n",
      " 38  is_w13                 175680 non-null  int64  \n",
      " 39  is_w14                 175680 non-null  int64  \n",
      " 40  is_w15                 175680 non-null  int64  \n",
      " 41  is_w16                 175680 non-null  int64  \n",
      " 42  is_w17                 175680 non-null  int64  \n",
      " 43  is_w18                 175680 non-null  int64  \n",
      " 44  is_w19                 175680 non-null  int64  \n",
      " 45  is_w20                 175680 non-null  int64  \n",
      " 46  is_w21                 175680 non-null  int64  \n",
      " 47  is_w22                 175680 non-null  int64  \n",
      " 48  is_w23                 175680 non-null  int64  \n",
      " 49  is_w24                 175680 non-null  int64  \n",
      " 50  is_w25                 175680 non-null  int64  \n",
      " 51  is_w26                 175680 non-null  int64  \n",
      " 52  is_w27                 175680 non-null  int64  \n",
      " 53  is_w28                 175680 non-null  int64  \n",
      " 54  is_w29                 175680 non-null  int64  \n",
      " 55  is_w30                 175680 non-null  int64  \n",
      " 56  is_w31                 175680 non-null  int64  \n",
      " 57  is_w32                 175680 non-null  int64  \n",
      " 58  is_w33                 175680 non-null  int64  \n",
      " 59  is_w34                 175680 non-null  int64  \n",
      " 60  is_w35                 175680 non-null  int64  \n",
      " 61  is_w36                 175680 non-null  int64  \n",
      " 62  is_w37                 175680 non-null  int64  \n",
      " 63  is_w38                 175680 non-null  int64  \n",
      " 64  is_w39                 175680 non-null  int64  \n",
      " 65  is_w40                 175680 non-null  int64  \n",
      " 66  is_w41                 175680 non-null  int64  \n",
      " 67  is_w42                 175680 non-null  int64  \n",
      " 68  is_w43                 175680 non-null  int64  \n",
      " 69  is_w44                 175680 non-null  int64  \n",
      " 70  is_w45                 175680 non-null  int64  \n",
      " 71  is_w46                 175680 non-null  int64  \n",
      " 72  is_w47                 175680 non-null  int64  \n",
      " 73  is_w48                 175680 non-null  int64  \n",
      " 74  is_w49                 175680 non-null  int64  \n",
      " 75  is_w50                 175680 non-null  int64  \n",
      " 76  is_w51                 175680 non-null  int64  \n",
      " 77  is_w52                 175680 non-null  int64  \n",
      " 78  is_w53                 175680 non-null  int64  \n",
      " 79  is_m1                  175680 non-null  int64  \n",
      " 80  is_m2                  175680 non-null  int64  \n",
      " 81  is_m3                  175680 non-null  int64  \n",
      " 82  is_m4                  175680 non-null  int64  \n",
      " 83  is_m5                  175680 non-null  int64  \n",
      " 84  is_m6                  175680 non-null  int64  \n",
      " 85  is_m7                  175680 non-null  int64  \n",
      " 86  is_m8                  175680 non-null  int64  \n",
      " 87  is_m9                  175680 non-null  int64  \n",
      " 88  is_m10                 175680 non-null  int64  \n",
      " 89  is_m11                 175680 non-null  int64  \n",
      " 90  is_m12                 175680 non-null  int64  \n",
      " 91  meter_reading_log      175680 non-null  float64\n",
      "dtypes: float64(11), int64(78), object(3)\n",
      "memory usage: 123.3+ MB\n",
      "None\n"
     ]
    }
   ],
   "source": [
    "energy = pd.read_csv(\"energy.0-20.ready.csv.gz\")\n",
    "print (energy.info())"
   ]
  },
  {
   "cell_type": "markdown",
   "metadata": {},
   "source": [
    "### Экспорт данных в HDF5\n",
    "HDF5: / ->\n",
    "* Группа (+ метаданные)\n",
    " * Набор данных\n",
    " * ..."
   ]
  },
  {
   "cell_type": "code",
   "execution_count": 49,
   "metadata": {},
   "outputs": [
    {
     "name": "stdout",
     "output_type": "stream",
     "text": [
      "Потребление памяти меньше на 104.7 Мб (минус 84.9 %)\n",
      "CSV: 1529689\n",
      "HDF5: 21300602\n"
     ]
    },
    {
     "name": "stderr",
     "output_type": "stream",
     "text": [
      "C:\\anaconda3\\lib\\site-packages\\tables\\file.py:426: UserWarning: a closed node found in the registry: ``/energy/meta/values_block_1/meta/_i_table``\n",
      "  warnings.warn(\"a closed node found in the registry: \"\n"
     ]
    }
   ],
   "source": [
    "energy = reduce_mem_usage(energy)\n",
    "energy.to_hdf('energy.0-20.ready.h5', \"energy\", format='table', mode=\"w\")\n",
    "print (\"CSV:\", os.path.getsize(os.getcwd() + '\\energy.0-20.ready.csv.gz'))\n",
    "print (\"HDF5:\", os.path.getsize(os.getcwd() + '\\energy.0-20.ready.h5'))"
   ]
  },
  {
   "cell_type": "code",
   "execution_count": 50,
   "metadata": {},
   "outputs": [
    {
     "name": "stdout",
     "output_type": "stream",
     "text": [
      "<class 'pandas.core.frame.DataFrame'>\n",
      "Int64Index: 175680 entries, 0 to 175679\n",
      "Data columns (total 92 columns):\n",
      " #   Column                 Non-Null Count   Dtype         \n",
      "---  ------                 --------------   -----         \n",
      " 0   timestamp              175680 non-null  datetime64[ns]\n",
      " 1   building_id            175680 non-null  int8          \n",
      " 2   meter_reading          175680 non-null  float16       \n",
      " 3   primary_use            175680 non-null  category      \n",
      " 4   air_temperature        175680 non-null  float16       \n",
      " 5   cloud_coverage         175680 non-null  float16       \n",
      " 6   dew_temperature        175680 non-null  float16       \n",
      " 7   precip_depth_1_hr      175680 non-null  float16       \n",
      " 8   sea_level_pressure     175680 non-null  float16       \n",
      " 9   wind_direction         175680 non-null  float16       \n",
      " 10  wind_speed             175680 non-null  float16       \n",
      " 11  air_temperature_diff1  175680 non-null  float16       \n",
      " 12  air_temperature_diff2  175680 non-null  float16       \n",
      " 13  hour                   175680 non-null  int8          \n",
      " 14  weekday                175680 non-null  int8          \n",
      " 15  week                   175680 non-null  int8          \n",
      " 16  month                  175680 non-null  int8          \n",
      " 17  date                   175680 non-null  category      \n",
      " 18  is_holiday             175680 non-null  int8          \n",
      " 19  is_wday0               175680 non-null  int8          \n",
      " 20  is_wday1               175680 non-null  int8          \n",
      " 21  is_wday2               175680 non-null  int8          \n",
      " 22  is_wday3               175680 non-null  int8          \n",
      " 23  is_wday4               175680 non-null  int8          \n",
      " 24  is_wday5               175680 non-null  int8          \n",
      " 25  is_wday6               175680 non-null  int8          \n",
      " 26  is_w1                  175680 non-null  int8          \n",
      " 27  is_w2                  175680 non-null  int8          \n",
      " 28  is_w3                  175680 non-null  int8          \n",
      " 29  is_w4                  175680 non-null  int8          \n",
      " 30  is_w5                  175680 non-null  int8          \n",
      " 31  is_w6                  175680 non-null  int8          \n",
      " 32  is_w7                  175680 non-null  int8          \n",
      " 33  is_w8                  175680 non-null  int8          \n",
      " 34  is_w9                  175680 non-null  int8          \n",
      " 35  is_w10                 175680 non-null  int8          \n",
      " 36  is_w11                 175680 non-null  int8          \n",
      " 37  is_w12                 175680 non-null  int8          \n",
      " 38  is_w13                 175680 non-null  int8          \n",
      " 39  is_w14                 175680 non-null  int8          \n",
      " 40  is_w15                 175680 non-null  int8          \n",
      " 41  is_w16                 175680 non-null  int8          \n",
      " 42  is_w17                 175680 non-null  int8          \n",
      " 43  is_w18                 175680 non-null  int8          \n",
      " 44  is_w19                 175680 non-null  int8          \n",
      " 45  is_w20                 175680 non-null  int8          \n",
      " 46  is_w21                 175680 non-null  int8          \n",
      " 47  is_w22                 175680 non-null  int8          \n",
      " 48  is_w23                 175680 non-null  int8          \n",
      " 49  is_w24                 175680 non-null  int8          \n",
      " 50  is_w25                 175680 non-null  int8          \n",
      " 51  is_w26                 175680 non-null  int8          \n",
      " 52  is_w27                 175680 non-null  int8          \n",
      " 53  is_w28                 175680 non-null  int8          \n",
      " 54  is_w29                 175680 non-null  int8          \n",
      " 55  is_w30                 175680 non-null  int8          \n",
      " 56  is_w31                 175680 non-null  int8          \n",
      " 57  is_w32                 175680 non-null  int8          \n",
      " 58  is_w33                 175680 non-null  int8          \n",
      " 59  is_w34                 175680 non-null  int8          \n",
      " 60  is_w35                 175680 non-null  int8          \n",
      " 61  is_w36                 175680 non-null  int8          \n",
      " 62  is_w37                 175680 non-null  int8          \n",
      " 63  is_w38                 175680 non-null  int8          \n",
      " 64  is_w39                 175680 non-null  int8          \n",
      " 65  is_w40                 175680 non-null  int8          \n",
      " 66  is_w41                 175680 non-null  int8          \n",
      " 67  is_w42                 175680 non-null  int8          \n",
      " 68  is_w43                 175680 non-null  int8          \n",
      " 69  is_w44                 175680 non-null  int8          \n",
      " 70  is_w45                 175680 non-null  int8          \n",
      " 71  is_w46                 175680 non-null  int8          \n",
      " 72  is_w47                 175680 non-null  int8          \n",
      " 73  is_w48                 175680 non-null  int8          \n",
      " 74  is_w49                 175680 non-null  int8          \n",
      " 75  is_w50                 175680 non-null  int8          \n",
      " 76  is_w51                 175680 non-null  int8          \n",
      " 77  is_w52                 175680 non-null  int8          \n",
      " 78  is_w53                 175680 non-null  int8          \n",
      " 79  is_m1                  175680 non-null  int8          \n",
      " 80  is_m2                  175680 non-null  int8          \n",
      " 81  is_m3                  175680 non-null  int8          \n",
      " 82  is_m4                  175680 non-null  int8          \n",
      " 83  is_m5                  175680 non-null  int8          \n",
      " 84  is_m6                  175680 non-null  int8          \n",
      " 85  is_m7                  175680 non-null  int8          \n",
      " 86  is_m8                  175680 non-null  int8          \n",
      " 87  is_m9                  175680 non-null  int8          \n",
      " 88  is_m10                 175680 non-null  int8          \n",
      " 89  is_m11                 175680 non-null  int8          \n",
      " 90  is_m12                 175680 non-null  int8          \n",
      " 91  meter_reading_log      175680 non-null  float16       \n",
      "dtypes: category(2), datetime64[ns](1), float16(11), int8(78)\n",
      "memory usage: 19.9 MB\n",
      "None\n"
     ]
    }
   ],
   "source": [
    "energy = pd.read_hdf('energy.0-20.ready.h5', \"energy\")\n",
    "print (energy.info())"
   ]
  },
  {
   "cell_type": "markdown",
   "metadata": {},
   "source": [
    "### Разделение данных и экспорт в HDF5"
   ]
  },
  {
   "cell_type": "code",
   "execution_count": 51,
   "metadata": {},
   "outputs": [
    {
     "name": "stdout",
     "output_type": "stream",
     "text": [
      "                 timestamp  building_id  meter_reading primary_use  \\\n",
      "69781  2016-05-25 09:00:00            1       125.8750   Education   \n",
      "135389 2016-10-09 01:00:00            9       123.6875      Office   \n",
      "121302 2016-09-09 17:00:00            2        49.5625   Education   \n",
      "145637 2016-10-30 09:00:00           17       139.5000      Office   \n",
      "120137 2016-09-07 06:00:00           17       121.2500      Office   \n",
      "\n",
      "        air_temperature  cloud_coverage  dew_temperature  precip_depth_1_hr  \\\n",
      "69781          21.09375        2.666016        17.203125                0.0   \n",
      "135389         26.09375        5.000000        21.703125                0.0   \n",
      "121302         31.09375        5.500000        23.296875                0.0   \n",
      "145637         20.00000        5.601562        18.296875                0.0   \n",
      "120137         25.00000        8.000000        21.703125                0.0   \n",
      "\n",
      "        sea_level_pressure  wind_direction  ...  is_m4  is_m5  is_m6  is_m7  \\\n",
      "69781               1021.5            70.0  ...      0      1      0      0   \n",
      "135389              1012.0           360.0  ...      0      0      0      0   \n",
      "121302              1017.5            90.0  ...      0      0      0      0   \n",
      "145637              1019.0            30.0  ...      0      0      0      0   \n",
      "120137              1021.0            40.0  ...      0      0      0      0   \n",
      "\n",
      "        is_m8  is_m9  is_m10 is_m11  is_m12  meter_reading_log  \n",
      "69781       0      0       0      0       0           4.843750  \n",
      "135389      0      0       1      0       0           4.824219  \n",
      "121302      0      1       0      0       0           3.923828  \n",
      "145637      0      0       1      0       0           4.945312  \n",
      "120137      0      1       0      0       0           4.804688  \n",
      "\n",
      "[5 rows x 92 columns]\n"
     ]
    }
   ],
   "source": [
    "energy_train, energy_test = train_test_split(energy[energy[\"meter_reading\"]>0], test_size=0.2)\n",
    "print (energy_train.head())"
   ]
  },
  {
   "cell_type": "code",
   "execution_count": 52,
   "metadata": {},
   "outputs": [
    {
     "name": "stdout",
     "output_type": "stream",
     "text": [
      "HDF5: 13687735\n"
     ]
    },
    {
     "name": "stderr",
     "output_type": "stream",
     "text": [
      "C:\\anaconda3\\lib\\site-packages\\tables\\file.py:426: UserWarning: a closed node found in the registry: ``/energy_train/meta/values_block_4/meta/_i_table``\n",
      "  warnings.warn(\"a closed node found in the registry: \"\n"
     ]
    }
   ],
   "source": [
    "pd.set_option('io.hdf.default_format','table')\n",
    "store = pd.HDFStore('energy.0-20.ready.split.h5', mode=\"w\")\n",
    "store[\"energy_train\"] = energy_train\n",
    "store[\"energy_test\"] = energy_test\n",
    "store.put(\"metadata\",\n",
    "             pd.Series([\"Набор обогащенных тестовых данных по 20 зданиям\"]))\n",
    "store.close()\n",
    "print (\"HDF5:\", os.path.getsize(os.getcwd() + '\\energy.0-20.ready.split.h5'))"
   ]
  },
  {
   "cell_type": "markdown",
   "metadata": {},
   "source": [
    "Для хранения атрибутов наборов данных также можно использовать\n",
    "\n",
    "store.get_storer('energy_train').attrs.my_attr"
   ]
  },
  {
   "cell_type": "markdown",
   "metadata": {},
   "source": [
    "### Чтение из HDF5"
   ]
  },
  {
   "cell_type": "code",
   "execution_count": 53,
   "metadata": {},
   "outputs": [
    {
     "name": "stdout",
     "output_type": "stream",
     "text": [
      "Набор обогащенных тестовых данных по 20 зданиям\n",
      "                 timestamp  building_id  meter_reading primary_use  \\\n",
      "69781  2016-05-25 09:00:00            1       125.8750   Education   \n",
      "135389 2016-10-09 01:00:00            9       123.6875      Office   \n",
      "121302 2016-09-09 17:00:00            2        49.5625   Education   \n",
      "145637 2016-10-30 09:00:00           17       139.5000      Office   \n",
      "120137 2016-09-07 06:00:00           17       121.2500      Office   \n",
      "\n",
      "        air_temperature  cloud_coverage  dew_temperature  precip_depth_1_hr  \\\n",
      "69781          21.09375        2.666016        17.203125                0.0   \n",
      "135389         26.09375        5.000000        21.703125                0.0   \n",
      "121302         31.09375        5.500000        23.296875                0.0   \n",
      "145637         20.00000        5.601562        18.296875                0.0   \n",
      "120137         25.00000        8.000000        21.703125                0.0   \n",
      "\n",
      "        sea_level_pressure  wind_direction  ...  is_m4  is_m5  is_m6  is_m7  \\\n",
      "69781               1021.5            70.0  ...      0      1      0      0   \n",
      "135389              1012.0           360.0  ...      0      0      0      0   \n",
      "121302              1017.5            90.0  ...      0      0      0      0   \n",
      "145637              1019.0            30.0  ...      0      0      0      0   \n",
      "120137              1021.0            40.0  ...      0      0      0      0   \n",
      "\n",
      "        is_m8  is_m9  is_m10 is_m11  is_m12  meter_reading_log  \n",
      "69781       0      0       0      0       0           4.843750  \n",
      "135389      0      0       1      0       0           4.824219  \n",
      "121302      0      1       0      0       0           3.923828  \n",
      "145637      0      0       1      0       0           4.945312  \n",
      "120137      0      1       0      0       0           4.804688  \n",
      "\n",
      "[5 rows x 92 columns]\n"
     ]
    }
   ],
   "source": [
    "store = pd.HDFStore('energy.0-20.ready.split.h5')\n",
    "energy_test = store.get(\"energy_test\")[:]\n",
    "energy_train = store.get(\"energy_train\")[:]\n",
    "metadata = store.get(\"metadata\")[:]\n",
    "store.close()\n",
    "print (metadata[0])\n",
    "print (energy_train.head())"
   ]
  }
 ],
 "metadata": {
  "kernelspec": {
   "display_name": "Python 3 (ipykernel)",
   "language": "python",
   "name": "python3"
  },
  "language_info": {
   "codemirror_mode": {
    "name": "ipython",
    "version": 3
   },
   "file_extension": ".py",
   "mimetype": "text/x-python",
   "name": "python",
   "nbconvert_exporter": "python",
   "pygments_lexer": "ipython3",
   "version": "3.9.13"
  }
 },
 "nbformat": 4,
 "nbformat_minor": 2
}
